{
 "metadata": {
  "language_info": {
   "codemirror_mode": {
    "name": "ipython",
    "version": 3
   },
   "file_extension": ".py",
   "mimetype": "text/x-python",
   "name": "python",
   "nbconvert_exporter": "python",
   "pygments_lexer": "ipython3",
   "version": "3.8.6-final"
  },
  "orig_nbformat": 2,
  "kernelspec": {
   "name": "python3",
   "display_name": "Python 3"
  }
 },
 "nbformat": 4,
 "nbformat_minor": 2,
 "cells": [
  {
   "cell_type": "code",
   "execution_count": 2,
   "metadata": {},
   "outputs": [],
   "source": [
    "import pandas as pd"
   ]
  },
  {
   "cell_type": "code",
   "execution_count": 5,
   "metadata": {},
   "outputs": [],
   "source": [
    "fifaplayers = pd.read_csv(\"C:\\MyStuff\\Coding\\Python\\dataprojects\\FIFA_20.csv\")"
   ]
  },
  {
   "cell_type": "code",
   "execution_count": 6,
   "metadata": {},
   "outputs": [
    {
     "output_type": "execute_result",
     "data": {
      "text/plain": [
       "       overall               name nationality                           club  \\\n",
       "0           94           L. Messi   Argentina                   FC Barcelona   \n",
       "1           93  Cristiano Ronaldo    Portugal                       Juventus   \n",
       "2           92          Neymar Jr      Brazil            Paris Saint-Germain   \n",
       "3           91          E. Hazard     Belgium                    Real Madrid   \n",
       "4           91       K. De Bruyne     Belgium                Manchester City   \n",
       "...        ...                ...         ...                            ...   \n",
       "16037       48         Shao Shuai    China PR               Beijing Renhe FC   \n",
       "16038       48       Xiao Mingjie    China PR               Shanghai SIPG FC   \n",
       "16039       48          Zhang Wei    China PR         Hebei China Fortune FC   \n",
       "16040       48       Wang Haijian    China PR  Shanghai Greenland Shenhua FC   \n",
       "16041       48         Pan Ximing    China PR         Hebei China Fortune FC   \n",
       "\n",
       "         position preferred_foot work_rate  jersey_number  wage_eur  \\\n",
       "0      Midfielder           Left    Medium             10    565000   \n",
       "1      Midfielder          Right      High              7    405000   \n",
       "2      Midfielder          Right      High             10    290000   \n",
       "3      Midfielder          Right      High              7    470000   \n",
       "4      Midfielder          Right      High             17    370000   \n",
       "...           ...            ...       ...            ...       ...   \n",
       "16037  Midfielder          Right    Medium             36      2000   \n",
       "16038  Midfielder          Right    Medium             31      2000   \n",
       "16039  Midfielder          Right       Low             38      1000   \n",
       "16040  Midfielder          Right       Low             33      1000   \n",
       "16041  Midfielder          Right    Medium             37      2000   \n",
       "\n",
       "       international_reputation  ...  physic  finishing  fk_accuracy  \\\n",
       "0                             5  ...      66         95           94   \n",
       "1                             5  ...      78         94           76   \n",
       "2                             5  ...      58         87           87   \n",
       "3                             4  ...      66         84           79   \n",
       "4                             4  ...      78         82           83   \n",
       "...                         ...  ...     ...        ...          ...   \n",
       "16037                         1  ...      51         17           21   \n",
       "16038                         1  ...      48         20           29   \n",
       "16039                         1  ...      51         33           32   \n",
       "16040                         1  ...      52         34           39   \n",
       "16041                         1  ...      55         30           35   \n",
       "\n",
       "       acceleration  agility  stamina  penalties  composure  standing_tackle  \\\n",
       "0                91       93       75         75         96               37   \n",
       "1                89       87       85         85         95               32   \n",
       "2                94       96       81         90         94               26   \n",
       "3                94       95       84         88         91               27   \n",
       "4                77       78       89         79         91               58   \n",
       "...             ...      ...      ...        ...        ...              ...   \n",
       "16037            56       45       60         39         41               50   \n",
       "16038            55       43       55         37         35               53   \n",
       "16039            55       52       50         36         39               52   \n",
       "16040            55       55       42         36         40               44   \n",
       "16041            54       52       40         38         42               42   \n",
       "\n",
       "       sliding_tackle  \n",
       "0                  26  \n",
       "1                  24  \n",
       "2                  29  \n",
       "3                  22  \n",
       "4                  51  \n",
       "...               ...  \n",
       "16037              52  \n",
       "16038              57  \n",
       "16039              46  \n",
       "16040              54  \n",
       "16041              48  \n",
       "\n",
       "[16042 rows x 30 columns]"
      ],
      "text/html": "<div>\n<style scoped>\n    .dataframe tbody tr th:only-of-type {\n        vertical-align: middle;\n    }\n\n    .dataframe tbody tr th {\n        vertical-align: top;\n    }\n\n    .dataframe thead th {\n        text-align: right;\n    }\n</style>\n<table border=\"1\" class=\"dataframe\">\n  <thead>\n    <tr style=\"text-align: right;\">\n      <th></th>\n      <th>overall</th>\n      <th>name</th>\n      <th>nationality</th>\n      <th>club</th>\n      <th>position</th>\n      <th>preferred_foot</th>\n      <th>work_rate</th>\n      <th>jersey_number</th>\n      <th>wage_eur</th>\n      <th>international_reputation</th>\n      <th>...</th>\n      <th>physic</th>\n      <th>finishing</th>\n      <th>fk_accuracy</th>\n      <th>acceleration</th>\n      <th>agility</th>\n      <th>stamina</th>\n      <th>penalties</th>\n      <th>composure</th>\n      <th>standing_tackle</th>\n      <th>sliding_tackle</th>\n    </tr>\n  </thead>\n  <tbody>\n    <tr>\n      <th>0</th>\n      <td>94</td>\n      <td>L. Messi</td>\n      <td>Argentina</td>\n      <td>FC Barcelona</td>\n      <td>Midfielder</td>\n      <td>Left</td>\n      <td>Medium</td>\n      <td>10</td>\n      <td>565000</td>\n      <td>5</td>\n      <td>...</td>\n      <td>66</td>\n      <td>95</td>\n      <td>94</td>\n      <td>91</td>\n      <td>93</td>\n      <td>75</td>\n      <td>75</td>\n      <td>96</td>\n      <td>37</td>\n      <td>26</td>\n    </tr>\n    <tr>\n      <th>1</th>\n      <td>93</td>\n      <td>Cristiano Ronaldo</td>\n      <td>Portugal</td>\n      <td>Juventus</td>\n      <td>Midfielder</td>\n      <td>Right</td>\n      <td>High</td>\n      <td>7</td>\n      <td>405000</td>\n      <td>5</td>\n      <td>...</td>\n      <td>78</td>\n      <td>94</td>\n      <td>76</td>\n      <td>89</td>\n      <td>87</td>\n      <td>85</td>\n      <td>85</td>\n      <td>95</td>\n      <td>32</td>\n      <td>24</td>\n    </tr>\n    <tr>\n      <th>2</th>\n      <td>92</td>\n      <td>Neymar Jr</td>\n      <td>Brazil</td>\n      <td>Paris Saint-Germain</td>\n      <td>Midfielder</td>\n      <td>Right</td>\n      <td>High</td>\n      <td>10</td>\n      <td>290000</td>\n      <td>5</td>\n      <td>...</td>\n      <td>58</td>\n      <td>87</td>\n      <td>87</td>\n      <td>94</td>\n      <td>96</td>\n      <td>81</td>\n      <td>90</td>\n      <td>94</td>\n      <td>26</td>\n      <td>29</td>\n    </tr>\n    <tr>\n      <th>3</th>\n      <td>91</td>\n      <td>E. Hazard</td>\n      <td>Belgium</td>\n      <td>Real Madrid</td>\n      <td>Midfielder</td>\n      <td>Right</td>\n      <td>High</td>\n      <td>7</td>\n      <td>470000</td>\n      <td>4</td>\n      <td>...</td>\n      <td>66</td>\n      <td>84</td>\n      <td>79</td>\n      <td>94</td>\n      <td>95</td>\n      <td>84</td>\n      <td>88</td>\n      <td>91</td>\n      <td>27</td>\n      <td>22</td>\n    </tr>\n    <tr>\n      <th>4</th>\n      <td>91</td>\n      <td>K. De Bruyne</td>\n      <td>Belgium</td>\n      <td>Manchester City</td>\n      <td>Midfielder</td>\n      <td>Right</td>\n      <td>High</td>\n      <td>17</td>\n      <td>370000</td>\n      <td>4</td>\n      <td>...</td>\n      <td>78</td>\n      <td>82</td>\n      <td>83</td>\n      <td>77</td>\n      <td>78</td>\n      <td>89</td>\n      <td>79</td>\n      <td>91</td>\n      <td>58</td>\n      <td>51</td>\n    </tr>\n    <tr>\n      <th>...</th>\n      <td>...</td>\n      <td>...</td>\n      <td>...</td>\n      <td>...</td>\n      <td>...</td>\n      <td>...</td>\n      <td>...</td>\n      <td>...</td>\n      <td>...</td>\n      <td>...</td>\n      <td>...</td>\n      <td>...</td>\n      <td>...</td>\n      <td>...</td>\n      <td>...</td>\n      <td>...</td>\n      <td>...</td>\n      <td>...</td>\n      <td>...</td>\n      <td>...</td>\n      <td>...</td>\n    </tr>\n    <tr>\n      <th>16037</th>\n      <td>48</td>\n      <td>Shao Shuai</td>\n      <td>China PR</td>\n      <td>Beijing Renhe FC</td>\n      <td>Midfielder</td>\n      <td>Right</td>\n      <td>Medium</td>\n      <td>36</td>\n      <td>2000</td>\n      <td>1</td>\n      <td>...</td>\n      <td>51</td>\n      <td>17</td>\n      <td>21</td>\n      <td>56</td>\n      <td>45</td>\n      <td>60</td>\n      <td>39</td>\n      <td>41</td>\n      <td>50</td>\n      <td>52</td>\n    </tr>\n    <tr>\n      <th>16038</th>\n      <td>48</td>\n      <td>Xiao Mingjie</td>\n      <td>China PR</td>\n      <td>Shanghai SIPG FC</td>\n      <td>Midfielder</td>\n      <td>Right</td>\n      <td>Medium</td>\n      <td>31</td>\n      <td>2000</td>\n      <td>1</td>\n      <td>...</td>\n      <td>48</td>\n      <td>20</td>\n      <td>29</td>\n      <td>55</td>\n      <td>43</td>\n      <td>55</td>\n      <td>37</td>\n      <td>35</td>\n      <td>53</td>\n      <td>57</td>\n    </tr>\n    <tr>\n      <th>16039</th>\n      <td>48</td>\n      <td>Zhang Wei</td>\n      <td>China PR</td>\n      <td>Hebei China Fortune FC</td>\n      <td>Midfielder</td>\n      <td>Right</td>\n      <td>Low</td>\n      <td>38</td>\n      <td>1000</td>\n      <td>1</td>\n      <td>...</td>\n      <td>51</td>\n      <td>33</td>\n      <td>32</td>\n      <td>55</td>\n      <td>52</td>\n      <td>50</td>\n      <td>36</td>\n      <td>39</td>\n      <td>52</td>\n      <td>46</td>\n    </tr>\n    <tr>\n      <th>16040</th>\n      <td>48</td>\n      <td>Wang Haijian</td>\n      <td>China PR</td>\n      <td>Shanghai Greenland Shenhua FC</td>\n      <td>Midfielder</td>\n      <td>Right</td>\n      <td>Low</td>\n      <td>33</td>\n      <td>1000</td>\n      <td>1</td>\n      <td>...</td>\n      <td>52</td>\n      <td>34</td>\n      <td>39</td>\n      <td>55</td>\n      <td>55</td>\n      <td>42</td>\n      <td>36</td>\n      <td>40</td>\n      <td>44</td>\n      <td>54</td>\n    </tr>\n    <tr>\n      <th>16041</th>\n      <td>48</td>\n      <td>Pan Ximing</td>\n      <td>China PR</td>\n      <td>Hebei China Fortune FC</td>\n      <td>Midfielder</td>\n      <td>Right</td>\n      <td>Medium</td>\n      <td>37</td>\n      <td>2000</td>\n      <td>1</td>\n      <td>...</td>\n      <td>55</td>\n      <td>30</td>\n      <td>35</td>\n      <td>54</td>\n      <td>52</td>\n      <td>40</td>\n      <td>38</td>\n      <td>42</td>\n      <td>42</td>\n      <td>48</td>\n    </tr>\n  </tbody>\n</table>\n<p>16042 rows × 30 columns</p>\n</div>"
     },
     "metadata": {},
     "execution_count": 6
    }
   ],
   "source": [
    "fifaplayers\n"
   ]
  },
  {
   "cell_type": "code",
   "execution_count": 8,
   "metadata": {},
   "outputs": [
    {
     "output_type": "execute_result",
     "data": {
      "text/plain": [
       "       overall               name nationality                           club  \\\n",
       "0           94           L. Messi   Argentina                   FC Barcelona   \n",
       "1           93  Cristiano Ronaldo    Portugal                       Juventus   \n",
       "2           92          Neymar Jr      Brazil            Paris Saint-Germain   \n",
       "3           91          E. Hazard     Belgium                    Real Madrid   \n",
       "4           91       K. De Bruyne     Belgium                Manchester City   \n",
       "...        ...                ...         ...                            ...   \n",
       "16037       48         Shao Shuai    China PR               Beijing Renhe FC   \n",
       "16038       48       Xiao Mingjie    China PR               Shanghai SIPG FC   \n",
       "16039       48          Zhang Wei    China PR         Hebei China Fortune FC   \n",
       "16040       48       Wang Haijian    China PR  Shanghai Greenland Shenhua FC   \n",
       "16041       48         Pan Ximing    China PR         Hebei China Fortune FC   \n",
       "\n",
       "         position preferred_foot work_rate  jersey_number  wage_eur  \\\n",
       "0      Midfielder           Left    Medium             10    565000   \n",
       "1      Midfielder          Right      High              7    405000   \n",
       "2      Midfielder          Right      High             10    290000   \n",
       "3      Midfielder          Right      High              7    470000   \n",
       "4      Midfielder          Right      High             17    370000   \n",
       "...           ...            ...       ...            ...       ...   \n",
       "16037  Midfielder          Right    Medium             36      2000   \n",
       "16038  Midfielder          Right    Medium             31      2000   \n",
       "16039  Midfielder          Right       Low             38      1000   \n",
       "16040  Midfielder          Right       Low             33      1000   \n",
       "16041  Midfielder          Right    Medium             37      2000   \n",
       "\n",
       "       weak_foot  ...  physic  finishing  fk_accuracy  acceleration  agility  \\\n",
       "0              4  ...      66         95           94            91       93   \n",
       "1              4  ...      78         94           76            89       87   \n",
       "2              5  ...      58         87           87            94       96   \n",
       "3              4  ...      66         84           79            94       95   \n",
       "4              5  ...      78         82           83            77       78   \n",
       "...          ...  ...     ...        ...          ...           ...      ...   \n",
       "16037          3  ...      51         17           21            56       45   \n",
       "16038          2  ...      48         20           29            55       43   \n",
       "16039          2  ...      51         33           32            55       52   \n",
       "16040          2  ...      52         34           39            55       55   \n",
       "16041          3  ...      55         30           35            54       52   \n",
       "\n",
       "       stamina  penalties  composure  standing_tackle  sliding_tackle  \n",
       "0           75         75         96               37              26  \n",
       "1           85         85         95               32              24  \n",
       "2           81         90         94               26              29  \n",
       "3           84         88         91               27              22  \n",
       "4           89         79         91               58              51  \n",
       "...        ...        ...        ...              ...             ...  \n",
       "16037       60         39         41               50              52  \n",
       "16038       55         37         35               53              57  \n",
       "16039       50         36         39               52              46  \n",
       "16040       42         36         40               44              54  \n",
       "16041       40         38         42               42              48  \n",
       "\n",
       "[16042 rows x 29 columns]"
      ],
      "text/html": "<div>\n<style scoped>\n    .dataframe tbody tr th:only-of-type {\n        vertical-align: middle;\n    }\n\n    .dataframe tbody tr th {\n        vertical-align: top;\n    }\n\n    .dataframe thead th {\n        text-align: right;\n    }\n</style>\n<table border=\"1\" class=\"dataframe\">\n  <thead>\n    <tr style=\"text-align: right;\">\n      <th></th>\n      <th>overall</th>\n      <th>name</th>\n      <th>nationality</th>\n      <th>club</th>\n      <th>position</th>\n      <th>preferred_foot</th>\n      <th>work_rate</th>\n      <th>jersey_number</th>\n      <th>wage_eur</th>\n      <th>weak_foot</th>\n      <th>...</th>\n      <th>physic</th>\n      <th>finishing</th>\n      <th>fk_accuracy</th>\n      <th>acceleration</th>\n      <th>agility</th>\n      <th>stamina</th>\n      <th>penalties</th>\n      <th>composure</th>\n      <th>standing_tackle</th>\n      <th>sliding_tackle</th>\n    </tr>\n  </thead>\n  <tbody>\n    <tr>\n      <th>0</th>\n      <td>94</td>\n      <td>L. Messi</td>\n      <td>Argentina</td>\n      <td>FC Barcelona</td>\n      <td>Midfielder</td>\n      <td>Left</td>\n      <td>Medium</td>\n      <td>10</td>\n      <td>565000</td>\n      <td>4</td>\n      <td>...</td>\n      <td>66</td>\n      <td>95</td>\n      <td>94</td>\n      <td>91</td>\n      <td>93</td>\n      <td>75</td>\n      <td>75</td>\n      <td>96</td>\n      <td>37</td>\n      <td>26</td>\n    </tr>\n    <tr>\n      <th>1</th>\n      <td>93</td>\n      <td>Cristiano Ronaldo</td>\n      <td>Portugal</td>\n      <td>Juventus</td>\n      <td>Midfielder</td>\n      <td>Right</td>\n      <td>High</td>\n      <td>7</td>\n      <td>405000</td>\n      <td>4</td>\n      <td>...</td>\n      <td>78</td>\n      <td>94</td>\n      <td>76</td>\n      <td>89</td>\n      <td>87</td>\n      <td>85</td>\n      <td>85</td>\n      <td>95</td>\n      <td>32</td>\n      <td>24</td>\n    </tr>\n    <tr>\n      <th>2</th>\n      <td>92</td>\n      <td>Neymar Jr</td>\n      <td>Brazil</td>\n      <td>Paris Saint-Germain</td>\n      <td>Midfielder</td>\n      <td>Right</td>\n      <td>High</td>\n      <td>10</td>\n      <td>290000</td>\n      <td>5</td>\n      <td>...</td>\n      <td>58</td>\n      <td>87</td>\n      <td>87</td>\n      <td>94</td>\n      <td>96</td>\n      <td>81</td>\n      <td>90</td>\n      <td>94</td>\n      <td>26</td>\n      <td>29</td>\n    </tr>\n    <tr>\n      <th>3</th>\n      <td>91</td>\n      <td>E. Hazard</td>\n      <td>Belgium</td>\n      <td>Real Madrid</td>\n      <td>Midfielder</td>\n      <td>Right</td>\n      <td>High</td>\n      <td>7</td>\n      <td>470000</td>\n      <td>4</td>\n      <td>...</td>\n      <td>66</td>\n      <td>84</td>\n      <td>79</td>\n      <td>94</td>\n      <td>95</td>\n      <td>84</td>\n      <td>88</td>\n      <td>91</td>\n      <td>27</td>\n      <td>22</td>\n    </tr>\n    <tr>\n      <th>4</th>\n      <td>91</td>\n      <td>K. De Bruyne</td>\n      <td>Belgium</td>\n      <td>Manchester City</td>\n      <td>Midfielder</td>\n      <td>Right</td>\n      <td>High</td>\n      <td>17</td>\n      <td>370000</td>\n      <td>5</td>\n      <td>...</td>\n      <td>78</td>\n      <td>82</td>\n      <td>83</td>\n      <td>77</td>\n      <td>78</td>\n      <td>89</td>\n      <td>79</td>\n      <td>91</td>\n      <td>58</td>\n      <td>51</td>\n    </tr>\n    <tr>\n      <th>...</th>\n      <td>...</td>\n      <td>...</td>\n      <td>...</td>\n      <td>...</td>\n      <td>...</td>\n      <td>...</td>\n      <td>...</td>\n      <td>...</td>\n      <td>...</td>\n      <td>...</td>\n      <td>...</td>\n      <td>...</td>\n      <td>...</td>\n      <td>...</td>\n      <td>...</td>\n      <td>...</td>\n      <td>...</td>\n      <td>...</td>\n      <td>...</td>\n      <td>...</td>\n      <td>...</td>\n    </tr>\n    <tr>\n      <th>16037</th>\n      <td>48</td>\n      <td>Shao Shuai</td>\n      <td>China PR</td>\n      <td>Beijing Renhe FC</td>\n      <td>Midfielder</td>\n      <td>Right</td>\n      <td>Medium</td>\n      <td>36</td>\n      <td>2000</td>\n      <td>3</td>\n      <td>...</td>\n      <td>51</td>\n      <td>17</td>\n      <td>21</td>\n      <td>56</td>\n      <td>45</td>\n      <td>60</td>\n      <td>39</td>\n      <td>41</td>\n      <td>50</td>\n      <td>52</td>\n    </tr>\n    <tr>\n      <th>16038</th>\n      <td>48</td>\n      <td>Xiao Mingjie</td>\n      <td>China PR</td>\n      <td>Shanghai SIPG FC</td>\n      <td>Midfielder</td>\n      <td>Right</td>\n      <td>Medium</td>\n      <td>31</td>\n      <td>2000</td>\n      <td>2</td>\n      <td>...</td>\n      <td>48</td>\n      <td>20</td>\n      <td>29</td>\n      <td>55</td>\n      <td>43</td>\n      <td>55</td>\n      <td>37</td>\n      <td>35</td>\n      <td>53</td>\n      <td>57</td>\n    </tr>\n    <tr>\n      <th>16039</th>\n      <td>48</td>\n      <td>Zhang Wei</td>\n      <td>China PR</td>\n      <td>Hebei China Fortune FC</td>\n      <td>Midfielder</td>\n      <td>Right</td>\n      <td>Low</td>\n      <td>38</td>\n      <td>1000</td>\n      <td>2</td>\n      <td>...</td>\n      <td>51</td>\n      <td>33</td>\n      <td>32</td>\n      <td>55</td>\n      <td>52</td>\n      <td>50</td>\n      <td>36</td>\n      <td>39</td>\n      <td>52</td>\n      <td>46</td>\n    </tr>\n    <tr>\n      <th>16040</th>\n      <td>48</td>\n      <td>Wang Haijian</td>\n      <td>China PR</td>\n      <td>Shanghai Greenland Shenhua FC</td>\n      <td>Midfielder</td>\n      <td>Right</td>\n      <td>Low</td>\n      <td>33</td>\n      <td>1000</td>\n      <td>2</td>\n      <td>...</td>\n      <td>52</td>\n      <td>34</td>\n      <td>39</td>\n      <td>55</td>\n      <td>55</td>\n      <td>42</td>\n      <td>36</td>\n      <td>40</td>\n      <td>44</td>\n      <td>54</td>\n    </tr>\n    <tr>\n      <th>16041</th>\n      <td>48</td>\n      <td>Pan Ximing</td>\n      <td>China PR</td>\n      <td>Hebei China Fortune FC</td>\n      <td>Midfielder</td>\n      <td>Right</td>\n      <td>Medium</td>\n      <td>37</td>\n      <td>2000</td>\n      <td>3</td>\n      <td>...</td>\n      <td>55</td>\n      <td>30</td>\n      <td>35</td>\n      <td>54</td>\n      <td>52</td>\n      <td>40</td>\n      <td>38</td>\n      <td>42</td>\n      <td>42</td>\n      <td>48</td>\n    </tr>\n  </tbody>\n</table>\n<p>16042 rows × 29 columns</p>\n</div>"
     },
     "metadata": {},
     "execution_count": 8
    }
   ],
   "source": [
    "del fifaplayers [\"international_reputation\"]\n",
    "fifaplayers"
   ]
  },
  {
   "cell_type": "code",
   "execution_count": null,
   "metadata": {},
   "outputs": [],
   "source": []
  }
 ]
}